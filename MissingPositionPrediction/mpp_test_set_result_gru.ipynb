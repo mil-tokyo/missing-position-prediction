{
 "cells": [
  {
   "cell_type": "code",
   "execution_count": 1,
   "metadata": {},
   "outputs": [],
   "source": [
    "%load_ext autoreload\n",
    "%autoreload 2\n",
    "%matplotlib inline"
   ]
  },
  {
   "cell_type": "code",
   "execution_count": 2,
   "metadata": {},
   "outputs": [
    {
     "name": "stderr",
     "output_type": "stream",
     "text": [
      "I0529 09:06:22.392773 139668468299584 file_utils.py:41] PyTorch version 1.4.0 available.\n"
     ]
    }
   ],
   "source": [
    "from sentencebert_missingpositionprediction import *"
   ]
  },
  {
   "cell_type": "code",
   "execution_count": 3,
   "metadata": {},
   "outputs": [],
   "source": [
    "import os\n",
    "import numpy as np\n",
    "import seaborn as sns\n",
    "import matplotlib as mpl\n",
    "import matplotlib.pyplot as plt\n",
    "import pandas as pd\n",
    "%matplotlib inline"
   ]
  },
  {
   "cell_type": "code",
   "execution_count": 4,
   "metadata": {},
   "outputs": [],
   "source": [
    "device = torch.device('cuda')"
   ]
  },
  {
   "cell_type": "code",
   "execution_count": 5,
   "metadata": {},
   "outputs": [],
   "source": [
    "# train\n",
    "train_dataset = ROCStoriesDataset_random_missing(data_path = \"../data/rocstories_completion_train.csv\")\n",
    "\n",
    "# dev\n",
    "val_dataset = ROCStoriesDataset_with_missing(data_path = \"../data/rocstories_completion_dev.csv\")\n",
    "\n",
    "# test\n",
    "test_dataset = ROCStoriesDataset_with_missing(data_path = \"../data/rocstories_completion_test.csv\")"
   ]
  },
  {
   "cell_type": "code",
   "execution_count": 6,
   "metadata": {},
   "outputs": [],
   "source": [
    "%%capture\n",
    "\n",
    "batch_size = 32\n",
    "block_size = 32\n",
    "\n",
    "sentbertmodel = SentenceTransformer('bert-base-nli-mean-tokens')\n",
    "tokenizer = BertTokenizer.from_pretrained('bert-base-cased')\n",
    "\n",
    "# --- model --- \n",
    "model = MissingPisitionPredictionModel(sentbertmodel, device).to(device)\n",
    "\n",
    "# --- DataLoader ---|\n",
    "collate_fn = lambda data: collate(data, tokenizer, block_size=block_size, device=device)\n",
    "train_iterator = DataLoader(\n",
    "    train_dataset, sampler=RandomSampler(train_dataset), batch_size=batch_size, collate_fn=collate_fn,\n",
    ")    \n",
    "valid_iterator = DataLoader(\n",
    "    val_dataset, sampler=SequentialSampler(val_dataset), batch_size=batch_size, collate_fn=collate_fn,\n",
    ")    \n",
    "test_iterator = DataLoader(\n",
    "    test_dataset, sampler=SequentialSampler(test_dataset), batch_size=batch_size, collate_fn=collate_fn,\n",
    ")    \n",
    "\n",
    "TRG_PAD_IDX = tokenizer.pad_token_id\n",
    "START_ID = tokenizer.cls_token_id\n",
    "mpe_criterion = nn.CrossEntropyLoss()"
   ]
  },
  {
   "cell_type": "markdown",
   "metadata": {},
   "source": [
    "## load model and get accuracy"
   ]
  },
  {
   "cell_type": "code",
   "execution_count": 9,
   "metadata": {},
   "outputs": [],
   "source": [
    "accuracy_list = {}"
   ]
  },
  {
   "cell_type": "code",
   "execution_count": 10,
   "metadata": {},
   "outputs": [],
   "source": [
    "model_dirs = [\"<PATH to trained model directories>\"]\n",
    "model_name = \"sentbert-positionestimation_model.pt\""
   ]
  },
  {
   "cell_type": "code",
   "execution_count": 15,
   "metadata": {},
   "outputs": [
    {
     "name": "stdout",
     "output_type": "stream",
     "text": [
      "20191228_trial08_30epochs_seed42\n",
      "20191228_trial09_30epochs_seed1234\n",
      "20191228_trial10_30epochs_seed99\n",
      "20191228_trial11_30epochs_seed613\n",
      "20191228_trial12_30epochs_seed1000\n"
     ]
    }
   ],
   "source": [
    "for model_dir in model_dirs:\n",
    "    print(os.path.basename(os.path.dirname(model_dir)))"
   ]
  },
  {
   "cell_type": "code",
   "execution_count": 16,
   "metadata": {},
   "outputs": [
    {
     "name": "stdout",
     "output_type": "stream",
     "text": [
      "20191228_trial08_30epochs_seed42\n"
     ]
    },
    {
     "name": "stderr",
     "output_type": "stream",
     "text": [
      "Iteration: 100%|██████████| 307/307 [02:33<00:00,  2.00it/s]\n"
     ]
    },
    {
     "name": "stdout",
     "output_type": "stream",
     "text": [
      "20191228_trial09_30epochs_seed1234\n"
     ]
    },
    {
     "name": "stderr",
     "output_type": "stream",
     "text": [
      "Iteration: 100%|██████████| 307/307 [04:03<00:00,  1.26it/s]\n"
     ]
    },
    {
     "name": "stdout",
     "output_type": "stream",
     "text": [
      "20191228_trial10_30epochs_seed99\n"
     ]
    },
    {
     "name": "stderr",
     "output_type": "stream",
     "text": [
      "Iteration: 100%|██████████| 307/307 [04:35<00:00,  1.11it/s]\n"
     ]
    },
    {
     "name": "stdout",
     "output_type": "stream",
     "text": [
      "20191228_trial11_30epochs_seed613\n"
     ]
    },
    {
     "name": "stderr",
     "output_type": "stream",
     "text": [
      "Iteration: 100%|██████████| 307/307 [04:34<00:00,  1.12it/s]\n"
     ]
    },
    {
     "name": "stdout",
     "output_type": "stream",
     "text": [
      "20191228_trial12_30epochs_seed1000\n"
     ]
    },
    {
     "name": "stderr",
     "output_type": "stream",
     "text": [
      "Iteration: 100%|██████████| 307/307 [04:35<00:00,  1.12it/s]\n"
     ]
    }
   ],
   "source": [
    "for model_dir in model_dirs:\n",
    "    print(os.path.basename(os.path.dirname(model_dir)))\n",
    "\n",
    "    model_path = os.path.join(model_dir, model_name)\n",
    "    model = MissingPsitionPredictionModel(sentbertmodel, device).to(device)\n",
    "    model.load_state_dict(torch.load(model_path))\n",
    "    test_loss, test_acc = evaluate(model, test_iterator, mpe_criterion)\n",
    "    \n",
    "    accuracy_list[os.path.basename(os.path.dirname(model_dir))] = test_acc"
   ]
  },
  {
   "cell_type": "code",
   "execution_count": 17,
   "metadata": {},
   "outputs": [
    {
     "data": {
      "text/plain": [
       "{'20191228_trial08_30epochs_seed42': 0.5229682410423453,\n",
       " '20191228_trial09_30epochs_seed1234': 0.5232451140065146,\n",
       " '20191228_trial10_30epochs_seed99': 0.5183021172638437,\n",
       " '20191228_trial11_30epochs_seed613': 0.5205700325732899,\n",
       " '20191228_trial12_30epochs_seed1000': 0.5233184039087948}"
      ]
     },
     "execution_count": 17,
     "metadata": {},
     "output_type": "execute_result"
    }
   ],
   "source": [
    "accuracy_list"
   ]
  },
  {
   "cell_type": "code",
   "execution_count": 18,
   "metadata": {},
   "outputs": [],
   "source": [
    "import json    "
   ]
  },
  {
   "cell_type": "code",
   "execution_count": 19,
   "metadata": {},
   "outputs": [],
   "source": [
    "with open(\"./result/mpp_gru_test_accuracy.json\", \"w\") as f:\n",
    "    json.dump(accuracy_list, f, indent=4)"
   ]
  },
  {
   "cell_type": "markdown",
   "metadata": {},
   "source": [
    "# mean, std"
   ]
  },
  {
   "cell_type": "code",
   "execution_count": 20,
   "metadata": {},
   "outputs": [],
   "source": [
    "import statistics as st"
   ]
  },
  {
   "cell_type": "code",
   "execution_count": 21,
   "metadata": {},
   "outputs": [],
   "source": [
    "values = np.array(list(accuracy_list.values()))"
   ]
  },
  {
   "cell_type": "code",
   "execution_count": 22,
   "metadata": {},
   "outputs": [],
   "source": [
    "values = values * 100"
   ]
  },
  {
   "cell_type": "code",
   "execution_count": 23,
   "metadata": {},
   "outputs": [
    {
     "data": {
      "text/plain": [
       "array([52.2968241 , 52.3245114 , 51.83021173, 52.05700326, 52.33184039])"
      ]
     },
     "execution_count": 23,
     "metadata": {},
     "output_type": "execute_result"
    }
   ],
   "source": [
    "values"
   ]
  },
  {
   "cell_type": "code",
   "execution_count": 24,
   "metadata": {},
   "outputs": [
    {
     "name": "stdout",
     "output_type": "stream",
     "text": [
      "statistics\n",
      "mean\n",
      "52.168078175895765\n",
      "std\n",
      "0.22042930055218343\n"
     ]
    }
   ],
   "source": [
    "print('statistics')\n",
    "\n",
    "print(\"mean\")\n",
    "print(st.mean(values))\n",
    "\n",
    "print(\"std\")\n",
    "print(st.stdev(values))"
   ]
  },
  {
   "cell_type": "code",
   "execution_count": null,
   "metadata": {},
   "outputs": [],
   "source": []
  }
 ],
 "metadata": {
  "kernelspec": {
   "display_name": "Python 3",
   "language": "python",
   "name": "python3"
  },
  "language_info": {
   "codemirror_mode": {
    "name": "ipython",
    "version": 3
   },
   "file_extension": ".py",
   "mimetype": "text/x-python",
   "name": "python",
   "nbconvert_exporter": "python",
   "pygments_lexer": "ipython3",
   "version": "3.6.8"
  }
 },
 "nbformat": 4,
 "nbformat_minor": 2
}