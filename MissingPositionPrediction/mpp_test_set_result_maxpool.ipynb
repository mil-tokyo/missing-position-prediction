{
 "cells": [
  {
   "cell_type": "code",
   "execution_count": 1,
   "metadata": {},
   "outputs": [],
   "source": [
    "%load_ext autoreload\n",
    "%autoreload 2\n",
    "%matplotlib inline"
   ]
  },
  {
   "cell_type": "code",
   "execution_count": 2,
   "metadata": {},
   "outputs": [
    {
     "name": "stderr",
     "output_type": "stream",
     "text": [
      "I0529 08:26:52.554205 140176275728192 file_utils.py:41] PyTorch version 1.4.0 available.\n"
     ]
    }
   ],
   "source": [
    "from sentencebert_missingpositionprediction import *"
   ]
  },
  {
   "cell_type": "code",
   "execution_count": 3,
   "metadata": {},
   "outputs": [],
   "source": [
    "import numpy as np\n",
    "import seaborn as sns\n",
    "import matplotlib as mpl\n",
    "import matplotlib.pyplot as plt\n",
    "import pandas as pd\n",
    "%matplotlib inline"
   ]
  },
  {
   "cell_type": "code",
   "execution_count": 4,
   "metadata": {},
   "outputs": [],
   "source": [
    "device = torch.device('cuda')"
   ]
  },
  {
   "cell_type": "code",
   "execution_count": 5,
   "metadata": {},
   "outputs": [],
   "source": [
    "# train\n",
    "train_dataset = ROCStoriesDataset_random_missing(data_path = \"../data/rocstories_completion_train.csv\")\n",
    "\n",
    "# dev\n",
    "val_dataset = ROCStoriesDataset_with_missing(data_path = \"../data/rocstories_completion_dev.csv\")\n",
    "\n",
    "# test\n",
    "test_dataset = ROCStoriesDataset_with_missing(data_path = \"../data/rocstories_completion_test.csv\")"
   ]
  },
  {
   "cell_type": "code",
   "execution_count": null,
   "metadata": {},
   "outputs": [],
   "source": [
    "%%capture\n",
    "\n",
    "batch_size = 32\n",
    "block_size = 32\n",
    "\n",
    "sentbertmodel = SentenceTransformer('bert-base-nli-mean-tokens')\n",
    "tokenizer = BertTokenizer.from_pretrained('bert-base-cased')\n",
    "\n",
    "# --- model --- \n",
    "model = MissingPisitionPredictionModel(sentbertmodel, device, ContextEncoder=\"PoolContextEncoder\").to(device)\n",
    "\n",
    "# --- DataLoader ---|\n",
    "collate_fn = lambda data: collate(data, tokenizer, block_size=block_size, device=device)\n",
    "train_iterator = DataLoader(\n",
    "    train_dataset, sampler=RandomSampler(train_dataset), batch_size=batch_size, collate_fn=collate_fn,\n",
    ")    \n",
    "valid_iterator = DataLoader(\n",
    "    val_dataset, sampler=SequentialSampler(val_dataset), batch_size=batch_size, collate_fn=collate_fn,\n",
    ")    \n",
    "test_iterator = DataLoader(\n",
    "    test_dataset, sampler=SequentialSampler(test_dataset), batch_size=batch_size, collate_fn=collate_fn,\n",
    ")    \n",
    "\n",
    "TRG_PAD_IDX = tokenizer.pad_token_id\n",
    "START_ID = tokenizer.cls_token_id\n",
    "mpe_criterion = nn.CrossEntropyLoss()"
   ]
  },
  {
   "cell_type": "markdown",
   "metadata": {},
   "source": [
    "## load model and get accuracy"
   ]
  },
  {
   "cell_type": "code",
   "execution_count": 7,
   "metadata": {},
   "outputs": [],
   "source": [
    "accuracy_list = {}"
   ]
  },
  {
   "cell_type": "code",
   "execution_count": 8,
   "metadata": {},
   "outputs": [],
   "source": [
    "model_dirs = [\"<PATH to trained model directories>\"]\n",
    "model_name = \"sentbert-positionestimation_model.pt\""
   ]
  },
  {
   "cell_type": "code",
   "execution_count": 9,
   "metadata": {},
   "outputs": [
    {
     "name": "stdout",
     "output_type": "stream",
     "text": [
      "20191230_trial15_30epochs_pool_seed42\n"
     ]
    },
    {
     "name": "stderr",
     "output_type": "stream",
     "text": [
      "Iteration: 100%|██████████| 307/307 [02:32<00:00,  2.01it/s]\n"
     ]
    },
    {
     "name": "stdout",
     "output_type": "stream",
     "text": [
      "20191230_trial16_30epochs_pool_seed1234\n"
     ]
    },
    {
     "name": "stderr",
     "output_type": "stream",
     "text": [
      "Iteration: 100%|██████████| 307/307 [02:32<00:00,  2.01it/s]\n"
     ]
    },
    {
     "name": "stdout",
     "output_type": "stream",
     "text": [
      "20191230_trial17_30epochs_pool_seed99\n"
     ]
    },
    {
     "name": "stderr",
     "output_type": "stream",
     "text": [
      "Iteration: 100%|██████████| 307/307 [02:33<00:00,  2.01it/s]\n"
     ]
    },
    {
     "name": "stdout",
     "output_type": "stream",
     "text": [
      "20191230_trial18_30epochs_pool_seed613\n"
     ]
    },
    {
     "name": "stderr",
     "output_type": "stream",
     "text": [
      "Iteration: 100%|██████████| 307/307 [02:32<00:00,  2.01it/s]\n"
     ]
    },
    {
     "name": "stdout",
     "output_type": "stream",
     "text": [
      "20191230_trial19_30epochs_pool_seed1000\n"
     ]
    },
    {
     "name": "stderr",
     "output_type": "stream",
     "text": [
      "Iteration: 100%|██████████| 307/307 [02:32<00:00,  2.01it/s]\n"
     ]
    }
   ],
   "source": [
    "for model_dir in model_dirs:\n",
    "    print(os.path.basename(os.path.dirname(model_dir)))\n",
    "\n",
    "    model_path = os.path.join(model_dir, model_name)\n",
    "    model = MissingPisitionPredictionModel(sentbertmodel, device, ContextEncoder=\"PoolContextEncoder\").to(device)\n",
    "    model.load_state_dict(torch.load(model_path))\n",
    "    test_loss, test_acc = evaluate(model, test_iterator, mpe_criterion)\n",
    "    \n",
    "    accuracy_list[os.path.basename(os.path.dirname(model_dir))] = test_acc"
   ]
  },
  {
   "cell_type": "code",
   "execution_count": 10,
   "metadata": {},
   "outputs": [
    {
     "data": {
      "text/plain": [
       "{'20191230_trial15_30epochs_pool_seed42': 0.34647801302931597,\n",
       " '20191230_trial16_30epochs_pool_seed1234': 0.3540105863192183,\n",
       " '20191230_trial17_30epochs_pool_seed99': 0.35052117263843646,\n",
       " '20191230_trial18_30epochs_pool_seed613': 0.34594055374592836,\n",
       " '20191230_trial19_30epochs_pool_seed1000': 0.3506514657980456}"
      ]
     },
     "execution_count": 10,
     "metadata": {},
     "output_type": "execute_result"
    }
   ],
   "source": [
    "accuracy_list"
   ]
  },
  {
   "cell_type": "code",
   "execution_count": 11,
   "metadata": {},
   "outputs": [],
   "source": [
    "import json    "
   ]
  },
  {
   "cell_type": "code",
   "execution_count": 12,
   "metadata": {},
   "outputs": [],
   "source": [
    "with open(\"./result/mpp_baseline_test_accuracy.json\", \"w\") as f:\n",
    "    json.dump(accuracy_list, f, indent=4)"
   ]
  },
  {
   "cell_type": "markdown",
   "metadata": {},
   "source": [
    "# mean, std"
   ]
  },
  {
   "cell_type": "code",
   "execution_count": 13,
   "metadata": {},
   "outputs": [],
   "source": [
    "import statistics as st"
   ]
  },
  {
   "cell_type": "code",
   "execution_count": 14,
   "metadata": {},
   "outputs": [],
   "source": [
    "values = np.array(list(accuracy_list.values()))"
   ]
  },
  {
   "cell_type": "code",
   "execution_count": 15,
   "metadata": {},
   "outputs": [],
   "source": [
    "values = values * 100"
   ]
  },
  {
   "cell_type": "code",
   "execution_count": 16,
   "metadata": {},
   "outputs": [
    {
     "data": {
      "text/plain": [
       "array([34.6478013 , 35.40105863, 35.05211726, 34.59405537, 35.06514658])"
      ]
     },
     "execution_count": 16,
     "metadata": {},
     "output_type": "execute_result"
    }
   ],
   "source": [
    "values"
   ]
  },
  {
   "cell_type": "code",
   "execution_count": 17,
   "metadata": {},
   "outputs": [
    {
     "name": "stdout",
     "output_type": "stream",
     "text": [
      "statistics\n",
      "mean\n",
      "34.9520358306189\n",
      "std\n",
      "0.33359423918936915\n"
     ]
    }
   ],
   "source": [
    "print('statistics')\n",
    "\n",
    "print(\"mean\")\n",
    "print(st.mean(values))\n",
    "\n",
    "print(\"std\")\n",
    "print(st.stdev(values))"
   ]
  },
  {
   "cell_type": "code",
   "execution_count": null,
   "metadata": {},
   "outputs": [],
   "source": []
  }
 ],
 "metadata": {
  "kernelspec": {
   "display_name": "Python 3",
   "language": "python",
   "name": "python3"
  },
  "language_info": {
   "codemirror_mode": {
    "name": "ipython",
    "version": 3
   },
   "file_extension": ".py",
   "mimetype": "text/x-python",
   "name": "python",
   "nbconvert_exporter": "python",
   "pygments_lexer": "ipython3",
   "version": "3.6.8"
  }
 },
 "nbformat": 4,
 "nbformat_minor": 2
}