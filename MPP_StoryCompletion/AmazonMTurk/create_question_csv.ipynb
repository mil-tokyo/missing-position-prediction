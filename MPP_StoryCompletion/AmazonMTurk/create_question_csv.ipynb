{
 "cells": [
  {
   "cell_type": "markdown",
   "metadata": {},
   "source": [
    "# Create Questions for AMT task"
   ]
  },
  {
   "cell_type": "code",
   "execution_count": 16,
   "metadata": {},
   "outputs": [],
   "source": [
    "import json\n",
    "import uuid\n",
    "import os\n",
    "import sys\n",
    "import random\n",
    "import pandas as pd\n",
    "import numpy as np"
   ]
  },
  {
   "cell_type": "code",
   "execution_count": 2,
   "metadata": {},
   "outputs": [],
   "source": [
    "path = \"../result/sbert_context_bert_generate_result_20200421.csv\""
   ]
  },
  {
   "cell_type": "code",
   "execution_count": 3,
   "metadata": {},
   "outputs": [],
   "source": [
    "df = pd.read_csv(path)"
   ]
  },
  {
   "cell_type": "code",
   "execution_count": 6,
   "metadata": {},
   "outputs": [
    {
     "data": {
      "text/html": [
       "<div>\n",
       "<style>\n",
       "    .dataframe thead tr:only-child th {\n",
       "        text-align: right;\n",
       "    }\n",
       "\n",
       "    .dataframe thead th {\n",
       "        text-align: left;\n",
       "    }\n",
       "\n",
       "    .dataframe tbody tr th {\n",
       "        vertical-align: top;\n",
       "    }\n",
       "</style>\n",
       "<table border=\"1\" class=\"dataframe\">\n",
       "  <thead>\n",
       "    <tr style=\"text-align: right;\">\n",
       "      <th></th>\n",
       "      <th>input</th>\n",
       "      <th>pred_missing_id (0_indexed)</th>\n",
       "      <th>generated_sentence</th>\n",
       "      <th>pred_story</th>\n",
       "      <th>gt_missing_id (0_indexed)</th>\n",
       "      <th>gt_sentence</th>\n",
       "      <th>gt_story</th>\n",
       "    </tr>\n",
       "  </thead>\n",
       "  <tbody>\n",
       "    <tr>\n",
       "      <th>0</th>\n",
       "      <td>i installed a fire pit in my backyard. i accid...</td>\n",
       "      <td>3</td>\n",
       "      <td>i was able to get rid of the fire.</td>\n",
       "      <td>i installed a fire pit in my backyard. i accid...</td>\n",
       "      <td>1</td>\n",
       "      <td>I decided to use it one night.</td>\n",
       "      <td>i installed a fire pit in my backyard. i decid...</td>\n",
       "    </tr>\n",
       "    <tr>\n",
       "      <th>1</th>\n",
       "      <td>sally like to jump around. she would jump ever...</td>\n",
       "      <td>3</td>\n",
       "      <td>she was so good at jumping.</td>\n",
       "      <td>sally like to jump around. she would jump ever...</td>\n",
       "      <td>3</td>\n",
       "      <td>One day is rained and left puddles on the side...</td>\n",
       "      <td>sally like to jump around. she would jump ever...</td>\n",
       "    </tr>\n",
       "    <tr>\n",
       "      <th>2</th>\n",
       "      <td>bob had been hiking all day. finally, he had r...</td>\n",
       "      <td>1</td>\n",
       "      <td>he was hiking in the woods.</td>\n",
       "      <td>bob had been hiking all day. he was hiking in ...</td>\n",
       "      <td>3</td>\n",
       "      <td>He loved looking out over the amazing site.</td>\n",
       "      <td>bob had been hiking all day. finally, he had r...</td>\n",
       "    </tr>\n",
       "    <tr>\n",
       "      <th>3</th>\n",
       "      <td>she decided to take massage classes. she event...</td>\n",
       "      <td>0</td>\n",
       "      <td>jane was a fast food baker.</td>\n",
       "      <td>jane was a fast food baker. she decided to tak...</td>\n",
       "      <td>0</td>\n",
       "      <td>Tara wanted to find a new hobby.</td>\n",
       "      <td>tara wanted to find a new hobby. she decided t...</td>\n",
       "    </tr>\n",
       "    <tr>\n",
       "      <th>4</th>\n",
       "      <td>jimmy was a master with his grill. he spent ev...</td>\n",
       "      <td>2</td>\n",
       "      <td>one day he decided to become a butcher.</td>\n",
       "      <td>jimmy was a master with his grill. he spent ev...</td>\n",
       "      <td>2</td>\n",
       "      <td>One day he was offered a TV show about grillin...</td>\n",
       "      <td>jimmy was a master with his grill. he spent ev...</td>\n",
       "    </tr>\n",
       "  </tbody>\n",
       "</table>\n",
       "</div>"
      ],
      "text/plain": [
       "                                               input  \\\n",
       "0  i installed a fire pit in my backyard. i accid...   \n",
       "1  sally like to jump around. she would jump ever...   \n",
       "2  bob had been hiking all day. finally, he had r...   \n",
       "3  she decided to take massage classes. she event...   \n",
       "4  jimmy was a master with his grill. he spent ev...   \n",
       "\n",
       "   pred_missing_id (0_indexed)                       generated_sentence  \\\n",
       "0                            3       i was able to get rid of the fire.   \n",
       "1                            3              she was so good at jumping.   \n",
       "2                            1              he was hiking in the woods.   \n",
       "3                            0              jane was a fast food baker.   \n",
       "4                            2  one day he decided to become a butcher.   \n",
       "\n",
       "                                          pred_story  \\\n",
       "0  i installed a fire pit in my backyard. i accid...   \n",
       "1  sally like to jump around. she would jump ever...   \n",
       "2  bob had been hiking all day. he was hiking in ...   \n",
       "3  jane was a fast food baker. she decided to tak...   \n",
       "4  jimmy was a master with his grill. he spent ev...   \n",
       "\n",
       "   gt_missing_id (0_indexed)  \\\n",
       "0                          1   \n",
       "1                          3   \n",
       "2                          3   \n",
       "3                          0   \n",
       "4                          2   \n",
       "\n",
       "                                         gt_sentence  \\\n",
       "0                     I decided to use it one night.   \n",
       "1  One day is rained and left puddles on the side...   \n",
       "2        He loved looking out over the amazing site.   \n",
       "3                   Tara wanted to find a new hobby.   \n",
       "4  One day he was offered a TV show about grillin...   \n",
       "\n",
       "                                            gt_story  \n",
       "0  i installed a fire pit in my backyard. i decid...  \n",
       "1  sally like to jump around. she would jump ever...  \n",
       "2  bob had been hiking all day. finally, he had r...  \n",
       "3  tara wanted to find a new hobby. she decided t...  \n",
       "4  jimmy was a master with his grill. he spent ev...  "
      ]
     },
     "execution_count": 6,
     "metadata": {},
     "output_type": "execute_result"
    }
   ],
   "source": [
    "df.head(5)"
   ]
  },
  {
   "cell_type": "code",
   "execution_count": 24,
   "metadata": {},
   "outputs": [
    {
     "data": {
      "text/plain": [
       "\"my son - in - law has a very sensitive nose. he is 12 months old and such a sweet little man. for two days i was teaching him how to wave, both hello and goodbye. kenden didn't wave by himself at all at my house. the minute my daughter got him home, he waved by himself at the dogs!\""
      ]
     },
     "execution_count": 24,
     "metadata": {},
     "output_type": "execute_result"
    }
   ],
   "source": [
    "df.iloc[9315, 3]"
   ]
  },
  {
   "cell_type": "code",
   "execution_count": 17,
   "metadata": {},
   "outputs": [],
   "source": [
    "def create_question(df, random_state=42):\n",
    "    np.random.seed(random_state)\n",
    "    \n",
    "    sample_df = df.sample(frac=1, random_state=random_state)\n",
    "    \n",
    "    for index, item in sample_df.iterrows():\n",
    "        context = item[\"input\"]\n",
    "        questionid = str(uuid.uuid4()) # add uuid as a question id\n",
    "\n",
    "        answer = np.random.binomial(1, 0.5)\n",
    "        \n",
    "        if answer == 0:\n",
    "            A = \"gt_story\"\n",
    "            B = \"pred_story\"\n",
    "            GT = \"A\"\n",
    "            Generated = \"B\"\n",
    "        elif answer == 1:\n",
    "            A = \"pred_story\"\n",
    "            B = \"gt_story\"\n",
    "            GT = \"B\"\n",
    "            Generated = \"A\"\n",
    "            \n",
    "        sample_df.at[index, \"questionid\"] = questionid\n",
    "        sample_df.at[index, \"A\"] = item[A]\n",
    "        sample_df.at[index, \"B\"] = item[B]\n",
    "        sample_df.at[index, \"GT\"] = GT\n",
    "        sample_df.at[index, \"Generated\"] = Generated\n",
    "            \n",
    "    return sample_df"
   ]
  },
  {
   "cell_type": "code",
   "execution_count": 25,
   "metadata": {},
   "outputs": [],
   "source": [
    "created_questions_df = create_question(df)"
   ]
  },
  {
   "cell_type": "code",
   "execution_count": 34,
   "metadata": {},
   "outputs": [],
   "source": [
    "#\n",
    "# save the created csv just once.\n",
    "# because the uuid is randomly generated every time you run the script.\n",
    "#\n",
    "\n",
    "created_questions_df.to_csv(\"./proc/created_questions_20200422.csv\", index=False)"
   ]
  },
  {
   "cell_type": "code",
   "execution_count": 35,
   "metadata": {},
   "outputs": [
    {
     "data": {
      "text/plain": [
       "9817"
      ]
     },
     "execution_count": 35,
     "metadata": {},
     "output_type": "execute_result"
    }
   ],
   "source": [
    "# check if the uuid duplicated.\n",
    "created_questions_df[\"questionid\"].nunique()"
   ]
  },
  {
   "cell_type": "code",
   "execution_count": null,
   "metadata": {},
   "outputs": [],
   "source": []
  }
 ],
 "metadata": {
  "kernelspec": {
   "display_name": "Python 3",
   "language": "python",
   "name": "python3"
  },
  "language_info": {
   "codemirror_mode": {
    "name": "ipython",
    "version": 3
   },
   "file_extension": ".py",
   "mimetype": "text/x-python",
   "name": "python",
   "nbconvert_exporter": "python",
   "pygments_lexer": "ipython3",
   "version": "3.6.8"
  }
 },
 "nbformat": 4,
 "nbformat_minor": 2
}
