{
 "cells": [
  {
   "cell_type": "markdown",
   "metadata": {},
   "source": [
    "# Amazon MTurk Result Count"
   ]
  },
  {
   "cell_type": "code",
   "execution_count": 1,
   "metadata": {},
   "outputs": [],
   "source": [
    "%load_ext autoreload\n",
    "%autoreload 2\n",
    "%matplotlib inline"
   ]
  },
  {
   "cell_type": "code",
   "execution_count": 2,
   "metadata": {},
   "outputs": [],
   "source": [
    "import pandas as pd\n",
    "import json\n",
    "import os\n",
    "import sys\n",
    "import glob\n",
    "\n",
    "import collections"
   ]
  },
  {
   "cell_type": "code",
   "execution_count": 3,
   "metadata": {},
   "outputs": [],
   "source": [
    "def common_answer(amt_answers_count):\n",
    "    \n",
    "    most_common_ans = amt_answers_count.most_common()\n",
    "    \n",
    "    if most_common_ans[0][1] >= 3:\n",
    "        ans = most_common_ans[0][0]\n",
    "\n",
    "    elif most_common_ans[0][1] == 2:\n",
    "        if most_common_ans[1][1] == 2:\n",
    "            ca = [most_common_ans[0][0], most_common_ans[1][0]]\n",
    "\n",
    "            if \"A\" in ca and \"B\" in ca:\n",
    "                ans = \"both\"\n",
    "            elif \"A\" in ca and \"both\" in ca:\n",
    "                ans = \"A\"\n",
    "            elif \"B\" in ca and \"both\" in ca:\n",
    "                ans = \"B\"\n",
    "            elif \"A\" in ca and \"neither\" in ca:\n",
    "                ans = \"A\"\n",
    "            elif \"B\" in ca and \"neither\" in ca:\n",
    "                ans = \"B\"\n",
    "            elif \"both\" in ca and \"neither\" in ca:\n",
    "                ans = \"both\"\n",
    "        elif most_common_ans[1][1] <= 1:\n",
    "            ans = most_common_ans[0][0]\n",
    "            \n",
    "    assert ans in [\"A\", \"B\", \"both\", \"neither\"]\n",
    "\n",
    "    return ans"
   ]
  },
  {
   "cell_type": "code",
   "execution_count": 4,
   "metadata": {},
   "outputs": [],
   "source": [
    "def print_result(proc_result_filename):\n",
    "\n",
    "    proc_result = pd.read_csv(proc_result_filename)\n",
    "    \n",
    "    num_stories = len(proc_result)\n",
    "    num_answers = num_stories * 5\n",
    "\n",
    "    # 5 workers agreement\n",
    "    both = 0\n",
    "    neither = 0\n",
    "    model_win = 0\n",
    "    gt_win = 0\n",
    "\n",
    "    # cumulative\n",
    "    model_win_cumulative = 0\n",
    "    gt_win_cumulative = 0\n",
    "    both_cumulative = 0\n",
    "    neither_cumulative = 0\n",
    "    \n",
    "    # questionid_list\n",
    "    model_win_id_list = []\n",
    "    gt_win_id_list = []\n",
    "    both_id_list = []\n",
    "    neither_id_list = []\n",
    "\n",
    "    for index, row in proc_result.iterrows():\n",
    "        model = row[\"Generated\"]\n",
    "        gt = row[\"GT\"]\n",
    "        amt_answers = row[\"amt_answers\"].split()\n",
    "        questionid = row[\"questionid\"]\n",
    "\n",
    "        amt_answers_count = collections.Counter(amt_answers)\n",
    "\n",
    "        most_common_ans = common_answer(amt_answers_count)\n",
    "                \n",
    "        if most_common_ans == \"both\":\n",
    "            both += 1\n",
    "            both_id_list.append(questionid)\n",
    "        elif most_common_ans == \"neither\":\n",
    "            neither += 1         \n",
    "            neither_id_list.append(questionid)\n",
    "        elif most_common_ans == model:\n",
    "            model_win += 1\n",
    "            model_win_id_list.append(questionid)\n",
    "        else: \n",
    "            gt_win += 1\n",
    "            gt_win_id_list.append(questionid)\n",
    "\n",
    "        # model wins\n",
    "        if model == \"A\":\n",
    "            model_win_cumulative += amt_answers_count[\"A\"]            \n",
    "            gt_win_cumulative += amt_answers_count[\"B\"]\n",
    "        elif model == \"B\":\n",
    "            model_win_cumulative += amt_answers_count[\"B\"]            \n",
    "            gt_win_cumulative += amt_answers_count[\"A\"]\n",
    "\n",
    "        # \"Both\"  \n",
    "        both_cumulative += amt_answers_count[\"both\"]\n",
    "\n",
    "        # \"Neither\"\n",
    "        neither_cumulative += amt_answers_count[\"neither\"]\n",
    "\n",
    "    print(\"----- Most Common Answer in each story -----\")\n",
    "    print(\"Model wins: {} / {}\".format(model_win, num_stories))\n",
    "    print(\"GT    wins: {} / {}\".format(gt_win, num_stories))\n",
    "    print(\"The number of 'both' : {} / {}\".format(both, num_stories))\n",
    "    print(\"The number of 'neither' : {} / {}\".format(neither, num_stories))\n",
    "    \n",
    "    print(\"----- Cumulative -----\")\n",
    "    print(\"Model  wins : {} / {}\".format(model_win_cumulative, num_answers))\n",
    "    print(\"GT     wins : {} / {}\".format(gt_win_cumulative, num_answers))\n",
    "    print(\"The number of 'both' : {} / {}\".format(both_cumulative, num_answers) )\n",
    "    print(\"The number of 'neither' : {} / {}\".format(neither_cumulative, num_answers) )\n",
    "    print(\"-----\")\n",
    "    \n",
    "    return {\"model_win_id_list\": model_win_id_list, \n",
    "            \"gt_win_id_list\":gt_win_id_list, \n",
    "            \"both_id_list\":both_id_list, \n",
    "            \"neither_id_list\":neither_id_list}"
   ]
  },
  {
   "cell_type": "markdown",
   "metadata": {},
   "source": [
    "## Count Result"
   ]
  },
  {
   "cell_type": "code",
   "execution_count": 5,
   "metadata": {},
   "outputs": [
    {
     "name": "stdout",
     "output_type": "stream",
     "text": [
      "----- Most Common Answer in each story -----\n",
      "Model wins: 8 / 200\n",
      "GT    wins: 148 / 200\n",
      "The number of 'both' : 44 / 200\n",
      "The number of 'neither' : 0 / 200\n",
      "----- Cumulative -----\n",
      "Model  wins : 77 / 1000\n",
      "GT     wins : 639 / 1000\n",
      "The number of 'both' : 248 / 1000\n",
      "The number of 'neither' : 36 / 1000\n",
      "-----\n"
     ]
    }
   ],
   "source": [
    "id_lists_dict = print_result(\"./proc/proc_result_from0to199.csv\")"
   ]
  },
  {
   "cell_type": "code",
   "execution_count": 6,
   "metadata": {},
   "outputs": [],
   "source": [
    "import json\n",
    "with open(\"./proc/id_lists_dict.json\", \"w\") as jw:\n",
    "    json.dump(id_lists_dict, jw, indent=4)"
   ]
  },
  {
   "cell_type": "code",
   "execution_count": null,
   "metadata": {},
   "outputs": [],
   "source": []
  }
 ],
 "metadata": {
  "kernelspec": {
   "display_name": "Python 3",
   "language": "python",
   "name": "python3"
  },
  "language_info": {
   "codemirror_mode": {
    "name": "ipython",
    "version": 3
   },
   "file_extension": ".py",
   "mimetype": "text/x-python",
   "name": "python",
   "nbconvert_exporter": "python",
   "pygments_lexer": "ipython3",
   "version": "3.6.8"
  }
 },
 "nbformat": 4,
 "nbformat_minor": 2
}
